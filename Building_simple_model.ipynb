{
  "cells": [
    {
      "cell_type": "code",
      "execution_count": null,
      "metadata": {
        "id": "WP7W0i7SmloO"
      },
      "outputs": [],
      "source": [
        "import torch\n",
        "import time\n",
        "import pandas as pd\n",
        "import numpy as np\n",
        "import matplotlib.pyplot as plt\n",
        "import torchvision as tv"
      ]
    },
    {
      "cell_type": "code",
      "execution_count": null,
      "metadata": {
        "id": "9pK-KhImmloP"
      },
      "outputs": [],
      "source": [
        "BATCH_SIZE=256"
      ]
    },
    {
      "cell_type": "code",
      "execution_count": null,
      "metadata": {
        "id": "uHHHGV6HmloP"
      },
      "outputs": [],
      "source": [
        "train_dataset = tv.datasets.FashionMNIST('.', train=True, transform=tv.transforms.ToTensor(), download=True)\n",
        "test_dataset = tv.datasets.FashionMNIST('.', train=False, transform=tv.transforms.ToTensor(), download=True)\n",
        "train = torch.utils.data.DataLoader(train_dataset, batch_size=BATCH_SIZE)\n",
        "test = torch.utils.data.DataLoader(test_dataset, batch_size=BATCH_SIZE)"
      ]
    },
    {
      "cell_type": "code",
      "execution_count": null,
      "metadata": {
        "id": "9L0HLwfdmloP",
        "outputId": "c74a5050-9235-42e7-94eb-4c23e682d777"
      },
      "outputs": [
        {
          "data": {
            "text/plain": [
              "torch.Size([1, 28, 28])"
            ]
          },
          "execution_count": 4,
          "metadata": {},
          "output_type": "execute_result"
        }
      ],
      "source": [
        "train_dataset[0][0].shape"
      ]
    },
    {
      "cell_type": "markdown",
      "metadata": {
        "id": "vOUs7vGAmloP"
      },
      "source": [
        "### Base Model"
      ]
    },
    {
      "cell_type": "code",
      "execution_count": null,
      "metadata": {
        "id": "vekma-kAmloQ"
      },
      "outputs": [],
      "source": [
        "model = torch.nn.Sequential(\n",
        "    torch.nn.Flatten(),\n",
        "    torch.nn.Linear(784, 256),\n",
        "    torch.nn.ReLU(),\n",
        "    torch.nn.Linear(256, 10),\n",
        ")"
      ]
    },
    {
      "cell_type": "code",
      "execution_count": null,
      "metadata": {
        "id": "XPlmLn37mloQ",
        "outputId": "5800c7ee-e763-4fdb-ff8a-ec9532fea516"
      },
      "outputs": [
        {
          "data": {
            "text/plain": [
              "Sequential(\n",
              "  (0): Flatten(start_dim=1, end_dim=-1)\n",
              "  (1): Linear(in_features=784, out_features=256, bias=True)\n",
              "  (2): ReLU()\n",
              "  (3): Linear(in_features=256, out_features=10, bias=True)\n",
              ")"
            ]
          },
          "execution_count": 6,
          "metadata": {},
          "output_type": "execute_result"
        }
      ],
      "source": [
        "model"
      ]
    },
    {
      "cell_type": "code",
      "execution_count": null,
      "metadata": {
        "id": "cFXF4inZmloQ"
      },
      "outputs": [],
      "source": [
        "loss = torch.nn.CrossEntropyLoss()\n",
        "trainer = torch.optim.Adam(model.parameters(), lr=0.01)\n"
      ]
    },
    {
      "cell_type": "code",
      "execution_count": null,
      "metadata": {
        "id": "J2yr7-sAmloQ"
      },
      "outputs": [],
      "source": [
        "def train_model(num_epochs):\n",
        "    for ep in range(num_epochs):\n",
        "        train_iters, train_passed  = 0, 0\n",
        "        train_loss, train_acc = 0., 0.\n",
        "        start=time.time()\n",
        "\n",
        "        model.train()\n",
        "        for X, y in train:\n",
        "            trainer.zero_grad()\n",
        "            y_pred = model(X)\n",
        "            l = loss(y_pred, y)\n",
        "            l.backward()\n",
        "            trainer.step()\n",
        "            train_loss += l.item()\n",
        "            train_acc += (y_pred.argmax(dim=1) == y).sum().item()\n",
        "            train_iters += 1\n",
        "            train_passed += len(X)\n",
        "\n",
        "        test_iters, test_passed  = 0, 0\n",
        "        test_loss, test_acc = 0., 0.\n",
        "        model.eval()\n",
        "        for X, y in test:\n",
        "            y_pred = model(X)\n",
        "            l = loss(y_pred, y)\n",
        "            test_loss += l.item()\n",
        "            test_acc += (y_pred.argmax(dim=1) == y).sum().item()\n",
        "            test_iters += 1\n",
        "            test_passed += len(X)\n",
        "\n",
        "        print(\"ep: {}, taked: {:.3f}, train_loss: {}, train_acc: {}, test_loss: {}, test_acc: {}\".format(\n",
        "            ep, time.time() - start, train_loss / train_iters, train_acc / train_passed,\n",
        "            test_loss / test_iters, test_acc / test_passed)\n",
        "        )"
      ]
    },
    {
      "cell_type": "code",
      "execution_count": null,
      "metadata": {
        "id": "4efe0GxtmloQ",
        "outputId": "6ecb9557-e250-4b9b-e03b-ad024d8b9652"
      },
      "outputs": [
        {
          "name": "stdout",
          "output_type": "stream",
          "text": [
            "ep: 0, taked: 2.551, train_loss: 0.5255452503549292, train_acc: 0.8119, test_loss: 0.4641087159514427, test_acc: 0.8278\n",
            "ep: 1, taked: 2.914, train_loss: 0.3807825371940085, train_acc: 0.8624333333333334, test_loss: 0.4323874294757843, test_acc: 0.8414\n",
            "ep: 2, taked: 2.493, train_loss: 0.35115152413540696, train_acc: 0.8717333333333334, test_loss: 0.4140103034675121, test_acc: 0.8482\n",
            "ep: 3, taked: 2.804, train_loss: 0.33045497232295096, train_acc: 0.8773666666666666, test_loss: 0.4110592074692249, test_acc: 0.8554\n",
            "ep: 4, taked: 4.254, train_loss: 0.31521974041106854, train_acc: 0.8826, test_loss: 0.4480829246342182, test_acc: 0.8509\n",
            "ep: 5, taked: 3.386, train_loss: 0.30565745354966917, train_acc: 0.88575, test_loss: 0.42148313485085964, test_acc: 0.8558\n",
            "ep: 6, taked: 3.585, train_loss: 0.29487083351358456, train_acc: 0.8900666666666667, test_loss: 0.4125928644090891, test_acc: 0.8591\n",
            "ep: 7, taked: 2.861, train_loss: 0.286420871919774, train_acc: 0.8930833333333333, test_loss: 0.398257839679718, test_acc: 0.8677\n",
            "ep: 8, taked: 3.182, train_loss: 0.27712929870219943, train_acc: 0.8975, test_loss: 0.40491640456020833, test_acc: 0.862\n",
            "ep: 9, taked: 3.250, train_loss: 0.2733394163086059, train_acc: 0.8982166666666667, test_loss: 0.424365059658885, test_acc: 0.8618\n"
          ]
        }
      ],
      "source": [
        "train_model(10)"
      ]
    },
    {
      "cell_type": "markdown",
      "metadata": {
        "id": "jOnlwL0LmloR"
      },
      "source": [
        "### More layers"
      ]
    },
    {
      "cell_type": "code",
      "execution_count": null,
      "metadata": {
        "id": "tuVdiLQomloR"
      },
      "outputs": [],
      "source": [
        "model = torch.nn.Sequential(\n",
        "    torch.nn.Flatten(),\n",
        "    torch.nn.Linear(784, 512),\n",
        "    torch.nn.ReLU(),\n",
        "    torch.nn.Linear(512, 256),\n",
        "    torch.nn.ReLU(),\n",
        "    torch.nn.Linear(256, 128),\n",
        "    torch.nn.ReLU(),\n",
        "    torch.nn.Linear(128, 10)\n",
        ")"
      ]
    },
    {
      "cell_type": "code",
      "execution_count": null,
      "metadata": {
        "id": "KegvF8d6mloR",
        "outputId": "3967f1e4-ec50-4aca-9c3f-9350d0b729c1"
      },
      "outputs": [
        {
          "name": "stdout",
          "output_type": "stream",
          "text": [
            "ep: 0, taked: 5.502, train_loss: 0.2673619069951646, train_acc: 0.9025333333333333, test_loss: 0.4105944700539112, test_acc: 0.8707\n",
            "ep: 1, taked: 5.781, train_loss: 0.2579672835608746, train_acc: 0.9064166666666666, test_loss: 0.4042858507484198, test_acc: 0.8775\n",
            "ep: 2, taked: 5.516, train_loss: 0.265577502199944, train_acc: 0.9042833333333333, test_loss: 0.4069808002561331, test_acc: 0.8718\n",
            "ep: 3, taked: 5.951, train_loss: 0.25379588324972924, train_acc: 0.9075666666666666, test_loss: 0.40211314633488654, test_acc: 0.8778\n",
            "ep: 4, taked: 5.465, train_loss: 0.2492960200664845, train_acc: 0.9085333333333333, test_loss: 0.3941861007362604, test_acc: 0.8769\n",
            "ep: 5, taked: 5.499, train_loss: 0.2448240192012584, train_acc: 0.9100666666666667, test_loss: 0.4137551229447126, test_acc: 0.879\n",
            "ep: 6, taked: 5.419, train_loss: 0.23531387017128316, train_acc: 0.91295, test_loss: 0.40246985424309967, test_acc: 0.8766\n",
            "ep: 7, taked: 5.297, train_loss: 0.24798560478585832, train_acc: 0.90905, test_loss: 0.42307317182421683, test_acc: 0.8733\n",
            "ep: 8, taked: 5.348, train_loss: 0.2503031960827239, train_acc: 0.91095, test_loss: 0.41779835931956766, test_acc: 0.8756\n",
            "ep: 9, taked: 5.721, train_loss: 0.24388869861339002, train_acc: 0.9114666666666666, test_loss: 0.4320082314312458, test_acc: 0.8692\n"
          ]
        }
      ],
      "source": [
        "trainer = torch.optim.Adam(model.parameters(), lr=.01)\n",
        "train_model(10)"
      ]
    },
    {
      "cell_type": "markdown",
      "metadata": {
        "id": "ilbtQzFGmloR"
      },
      "source": [
        "### BatchNorm + 15 Epochs"
      ]
    },
    {
      "cell_type": "code",
      "execution_count": null,
      "metadata": {
        "id": "-l3M1ahmmloR"
      },
      "outputs": [],
      "source": [
        "model = torch.nn.Sequential(\n",
        "    torch.nn.Flatten(),\n",
        "    torch.nn.Linear(784, 512),\n",
        "    torch.nn.BatchNorm1d(512),\n",
        "    torch.nn.ReLU(),\n",
        "    torch.nn.Linear(512, 256),\n",
        "    torch.nn.BatchNorm1d(256),\n",
        "    torch.nn.ReLU(),\n",
        "    torch.nn.Linear(256, 128),\n",
        "    torch.nn.BatchNorm1d(128),\n",
        "    torch.nn.ReLU(),\n",
        "    torch.nn.Linear(128, 10)\n",
        ")"
      ]
    },
    {
      "cell_type": "code",
      "execution_count": null,
      "metadata": {
        "id": "yRmqqXmimloR",
        "outputId": "8aea8489-c169-4c39-9fa9-bd65d9593a3c"
      },
      "outputs": [
        {
          "name": "stdout",
          "output_type": "stream",
          "text": [
            "ep: 0, taked: 3.884, train_loss: 0.4697841873828401, train_acc: 0.82845, test_loss: 0.397604320012033, test_acc: 0.8569\n",
            "ep: 1, taked: 3.580, train_loss: 0.34653277283019207, train_acc: 0.87245, test_loss: 0.40305748693645, test_acc: 0.8509\n",
            "ep: 2, taked: 3.620, train_loss: 0.30170548146075393, train_acc: 0.8897166666666667, test_loss: 0.38787022288888695, test_acc: 0.8504\n",
            "ep: 3, taked: 3.602, train_loss: 0.2742162881379432, train_acc: 0.8976, test_loss: 0.36961090844124556, test_acc: 0.8633\n",
            "ep: 4, taked: 3.777, train_loss: 0.25171961162952666, train_acc: 0.9064833333333333, test_loss: 0.3615937980823219, test_acc: 0.8663\n",
            "ep: 5, taked: 3.646, train_loss: 0.2309481660102276, train_acc: 0.9149, test_loss: 0.3837518675252795, test_acc: 0.867\n",
            "ep: 6, taked: 4.342, train_loss: 0.21535365904899353, train_acc: 0.92015, test_loss: 0.38387817549519243, test_acc: 0.8666\n",
            "ep: 7, taked: 4.099, train_loss: 0.200710488126633, train_acc: 0.9237166666666666, test_loss: 0.3837200918700546, test_acc: 0.8785\n",
            "ep: 8, taked: 3.984, train_loss: 0.19078022859832075, train_acc: 0.9283333333333333, test_loss: 0.3864010656718165, test_acc: 0.8786\n",
            "ep: 9, taked: 3.961, train_loss: 0.17723940322373777, train_acc: 0.93325, test_loss: 0.3687993193976581, test_acc: 0.8796\n",
            "ep: 10, taked: 3.794, train_loss: 0.16688518616113257, train_acc: 0.9371166666666667, test_loss: 0.3863639871124178, test_acc: 0.8798\n",
            "ep: 11, taked: 3.842, train_loss: 0.15513182634368855, train_acc: 0.9404166666666667, test_loss: 0.4098277352517471, test_acc: 0.8798\n",
            "ep: 12, taked: 4.065, train_loss: 0.1474388101950605, train_acc: 0.9436666666666667, test_loss: 0.4168772916775197, test_acc: 0.88\n",
            "ep: 13, taked: 3.927, train_loss: 0.1408810516462681, train_acc: 0.9462833333333334, test_loss: 0.3933892122004181, test_acc: 0.8844\n",
            "ep: 14, taked: 4.301, train_loss: 0.13229204980616874, train_acc: 0.9487166666666667, test_loss: 0.43142760838381944, test_acc: 0.8822\n"
          ]
        }
      ],
      "source": [
        "trainer = torch.optim.Adam(model.parameters(), lr=.01)\n",
        "train_model(15)"
      ]
    },
    {
      "cell_type": "markdown",
      "metadata": {
        "id": "8fqyTjmsmloR"
      },
      "source": [
        "### Dropout+ 17 Epochs"
      ]
    },
    {
      "cell_type": "code",
      "execution_count": null,
      "metadata": {
        "id": "66V4s7pEmloR"
      },
      "outputs": [],
      "source": [
        "model = torch.nn.Sequential(\n",
        "    torch.nn.Flatten(),\n",
        "    torch.nn.Linear(784, 512),\n",
        "    torch.nn.BatchNorm1d(512),\n",
        "    torch.nn.ReLU(),\n",
        "    torch.nn.Dropout(0.5),\n",
        "    torch.nn.Linear(512, 256),\n",
        "    torch.nn.BatchNorm1d(256),\n",
        "    torch.nn.ReLU(),\n",
        "    torch.nn.Dropout(0.5),\n",
        "    torch.nn.Linear(256, 128),\n",
        "    torch.nn.BatchNorm1d(128),\n",
        "    torch.nn.ReLU(),\n",
        "    torch.nn.Dropout(0.5),\n",
        "    torch.nn.Linear(128, 10)\n",
        ")"
      ]
    },
    {
      "cell_type": "code",
      "execution_count": null,
      "metadata": {
        "id": "GWhBiuX3mloR",
        "outputId": "5404f565-cd0b-4e65-f1de-2f312009591d"
      },
      "outputs": [
        {
          "name": "stdout",
          "output_type": "stream",
          "text": [
            "ep: 0, taked: 3.350, train_loss: 0.2774702658678623, train_acc: 0.9014, test_loss: 0.32211491782218216, test_acc: 0.8872\n",
            "ep: 1, taked: 3.945, train_loss: 0.27521205639585533, train_acc: 0.90165, test_loss: 0.3158109850250185, test_acc: 0.8847\n",
            "ep: 2, taked: 3.407, train_loss: 0.26866213755404694, train_acc: 0.9031833333333333, test_loss: 0.30800861176103356, test_acc: 0.888\n",
            "ep: 3, taked: 3.573, train_loss: 0.26639323792559033, train_acc: 0.90365, test_loss: 0.3064592137001455, test_acc: 0.8896\n",
            "ep: 4, taked: 3.633, train_loss: 0.25836192115824275, train_acc: 0.90765, test_loss: 0.3134343011304736, test_acc: 0.8865\n",
            "ep: 5, taked: 4.048, train_loss: 0.25737611803602667, train_acc: 0.9080166666666667, test_loss: 0.30954485554248096, test_acc: 0.8888\n",
            "ep: 6, taked: 4.169, train_loss: 0.24996127023341808, train_acc: 0.90945, test_loss: 0.31773582808673384, test_acc: 0.8869\n",
            "ep: 7, taked: 4.031, train_loss: 0.2511639891786778, train_acc: 0.9103, test_loss: 0.32120816633105276, test_acc: 0.8857\n",
            "ep: 8, taked: 4.325, train_loss: 0.24608237007831005, train_acc: 0.91055, test_loss: 0.321144113317132, test_acc: 0.8867\n",
            "ep: 9, taked: 3.932, train_loss: 0.24095242220036528, train_acc: 0.9134166666666667, test_loss: 0.31458933260291816, test_acc: 0.8878\n",
            "ep: 10, taked: 4.051, train_loss: 0.2382577544831215, train_acc: 0.9149166666666667, test_loss: 0.305845679435879, test_acc: 0.8936\n",
            "ep: 11, taked: 3.925, train_loss: 0.2362469527632632, train_acc: 0.9141833333333333, test_loss: 0.30869171768426895, test_acc: 0.8913\n",
            "ep: 12, taked: 4.189, train_loss: 0.2327047959921208, train_acc: 0.91455, test_loss: 0.321205279417336, test_acc: 0.8896\n",
            "ep: 13, taked: 4.388, train_loss: 0.23121344878318462, train_acc: 0.9165333333333333, test_loss: 0.31149219498038294, test_acc: 0.8965\n",
            "ep: 14, taked: 4.031, train_loss: 0.2257709042188969, train_acc: 0.9184, test_loss: 0.30596688501536845, test_acc: 0.893\n",
            "ep: 15, taked: 3.942, train_loss: 0.22406309472119554, train_acc: 0.91875, test_loss: 0.3143558241426945, test_acc: 0.894\n",
            "ep: 16, taked: 4.099, train_loss: 0.22423929185309308, train_acc: 0.9203833333333333, test_loss: 0.3078676970675588, test_acc: 0.8937\n"
          ]
        }
      ],
      "source": [
        "trainer = torch.optim.Adam(model.parameters(), lr=.01)\n",
        "train_model(17)"
      ]
    }
  ],
  "metadata": {
    "kernelspec": {
      "display_name": ".venv",
      "language": "python",
      "name": "python3"
    },
    "language_info": {
      "codemirror_mode": {
        "name": "ipython",
        "version": 3
      },
      "file_extension": ".py",
      "mimetype": "text/x-python",
      "name": "python",
      "nbconvert_exporter": "python",
      "pygments_lexer": "ipython3",
      "version": "3.10.12"
    },
    "colab": {
      "provenance": []
    }
  },
  "nbformat": 4,
  "nbformat_minor": 0
}